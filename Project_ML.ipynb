{
  "nbformat": 4,
  "nbformat_minor": 0,
  "metadata": {
    "colab": {
      "provenance": [],
      "authorship_tag": "ABX9TyPJLAqq1TnLtyXhCsiwgZ+Z",
      "include_colab_link": true
    },
    "kernelspec": {
      "name": "python3",
      "display_name": "Python 3"
    },
    "language_info": {
      "name": "python"
    }
  },
  "cells": [
    {
      "cell_type": "markdown",
      "metadata": {
        "id": "view-in-github",
        "colab_type": "text"
      },
      "source": [
        "<a href=\"https://colab.research.google.com/github/erassmirza/ML_termProject/blob/main/Project_ML.ipynb\" target=\"_parent\"><img src=\"https://colab.research.google.com/assets/colab-badge.svg\" alt=\"Open In Colab\"/></a>"
      ]
    },
    {
      "cell_type": "code",
      "source": [
        "! pip install pycoingecko\n",
        "from pycoingecko import CoinGeckoAPI\n",
        "import pandas as pd"
      ],
      "metadata": {
        "colab": {
          "base_uri": "https://localhost:8080/"
        },
        "id": "FX0mBwYVYYcG",
        "outputId": "2c9c99a8-254e-45ea-e515-e4216c0eedc1"
      },
      "execution_count": 1,
      "outputs": [
        {
          "output_type": "stream",
          "name": "stdout",
          "text": [
            "Looking in indexes: https://pypi.org/simple, https://us-python.pkg.dev/colab-wheels/public/simple/\n",
            "Requirement already satisfied: pycoingecko in /usr/local/lib/python3.10/dist-packages (3.1.0)\n",
            "Requirement already satisfied: requests in /usr/local/lib/python3.10/dist-packages (from pycoingecko) (2.27.1)\n",
            "Requirement already satisfied: urllib3<1.27,>=1.21.1 in /usr/local/lib/python3.10/dist-packages (from requests->pycoingecko) (1.26.16)\n",
            "Requirement already satisfied: certifi>=2017.4.17 in /usr/local/lib/python3.10/dist-packages (from requests->pycoingecko) (2023.5.7)\n",
            "Requirement already satisfied: charset-normalizer~=2.0.0 in /usr/local/lib/python3.10/dist-packages (from requests->pycoingecko) (2.0.12)\n",
            "Requirement already satisfied: idna<4,>=2.5 in /usr/local/lib/python3.10/dist-packages (from requests->pycoingecko) (3.4)\n"
          ]
        }
      ]
    },
    {
      "cell_type": "markdown",
      "source": [
        "# Coingecko"
      ],
      "metadata": {
        "id": "khMU8FJ8LPSL"
      }
    },
    {
      "cell_type": "code",
      "source": [
        "cg = CoinGeckoAPI()"
      ],
      "metadata": {
        "id": "K1AZJsGPY290"
      },
      "execution_count": 2,
      "outputs": []
    },
    {
      "cell_type": "markdown",
      "source": [
        "## Extract Data"
      ],
      "metadata": {
        "id": "jkZEA8t58kKc"
      }
    },
    {
      "cell_type": "code",
      "source": [
        "data = cg.get_coin_market_chart_by_id(id='ethereum',\n",
        "                                   vs_currency='usd',\n",
        "                                   days = 10000)\n",
        "df = pd.DataFrame(data)\n",
        "prices = list(df['prices'])\n",
        "market_caps = list(df['market_caps'])\n",
        "total_volumes = list(df['total_volumes'])\n",
        "\n",
        "timestamp = []\n",
        "price = []\n",
        "market_cap = []\n",
        "total_volume = []\n",
        "\n",
        "for i in range(len(prices)):\n",
        "  timestamp.append(prices[i][0])\n",
        "  price.append(prices[i][1])\n",
        "  market_cap.append(market_caps[i][1])\n",
        "  total_volume.append(total_volumes[i][1])\n",
        "\n",
        "data = pd.DataFrame([timestamp, price, market_cap, total_volume]).T\n",
        "data.rename(columns = {0:'timestamp',\n",
        "                             1:'price',\n",
        "                             2:'market_cap',\n",
        "                             3:'total_volume'}, inplace = True)\n",
        "data['timestamp'] = pd.to_datetime(data['timestamp'], unit=\"ms\")\n",
        "data"
      ],
      "metadata": {
        "colab": {
          "base_uri": "https://localhost:8080/",
          "height": 424
        },
        "id": "QaLyhU51JAsL",
        "outputId": "dc83be1d-f6d6-44ba-dd22-b1752424b66b"
      },
      "execution_count": 3,
      "outputs": [
        {
          "output_type": "execute_result",
          "data": {
            "text/plain": [
              "               timestamp        price    market_cap  total_volume\n",
              "0    2015-08-07 00:00:00     2.831620  0.000000e+00  9.062200e+04\n",
              "1    2015-08-08 00:00:00     1.330750  8.033948e+07  3.680700e+05\n",
              "2    2015-08-10 00:00:00     0.687586  4.155631e+07  4.004641e+05\n",
              "3    2015-08-11 00:00:00     1.067379  6.453901e+07  1.518998e+06\n",
              "4    2015-08-12 00:00:00     1.256613  7.601326e+07  2.073893e+06\n",
              "...                  ...          ...           ...           ...\n",
              "2875 2023-06-22 00:00:00  1892.899572  2.275816e+11  1.229479e+10\n",
              "2876 2023-06-23 00:00:00  1874.177947  2.253811e+11  9.842203e+09\n",
              "2877 2023-06-24 00:00:00  1891.345008  2.274194e+11  9.303341e+09\n",
              "2878 2023-06-25 00:00:00  1875.059962  2.254489e+11  4.889179e+09\n",
              "2879 2023-06-25 16:29:40  1889.491318  2.270213e+11  7.313987e+09\n",
              "\n",
              "[2880 rows x 4 columns]"
            ],
            "text/html": [
              "\n",
              "  <div id=\"df-2e835401-a0b5-410d-bd20-d2a5684adcf0\">\n",
              "    <div class=\"colab-df-container\">\n",
              "      <div>\n",
              "<style scoped>\n",
              "    .dataframe tbody tr th:only-of-type {\n",
              "        vertical-align: middle;\n",
              "    }\n",
              "\n",
              "    .dataframe tbody tr th {\n",
              "        vertical-align: top;\n",
              "    }\n",
              "\n",
              "    .dataframe thead th {\n",
              "        text-align: right;\n",
              "    }\n",
              "</style>\n",
              "<table border=\"1\" class=\"dataframe\">\n",
              "  <thead>\n",
              "    <tr style=\"text-align: right;\">\n",
              "      <th></th>\n",
              "      <th>timestamp</th>\n",
              "      <th>price</th>\n",
              "      <th>market_cap</th>\n",
              "      <th>total_volume</th>\n",
              "    </tr>\n",
              "  </thead>\n",
              "  <tbody>\n",
              "    <tr>\n",
              "      <th>0</th>\n",
              "      <td>2015-08-07 00:00:00</td>\n",
              "      <td>2.831620</td>\n",
              "      <td>0.000000e+00</td>\n",
              "      <td>9.062200e+04</td>\n",
              "    </tr>\n",
              "    <tr>\n",
              "      <th>1</th>\n",
              "      <td>2015-08-08 00:00:00</td>\n",
              "      <td>1.330750</td>\n",
              "      <td>8.033948e+07</td>\n",
              "      <td>3.680700e+05</td>\n",
              "    </tr>\n",
              "    <tr>\n",
              "      <th>2</th>\n",
              "      <td>2015-08-10 00:00:00</td>\n",
              "      <td>0.687586</td>\n",
              "      <td>4.155631e+07</td>\n",
              "      <td>4.004641e+05</td>\n",
              "    </tr>\n",
              "    <tr>\n",
              "      <th>3</th>\n",
              "      <td>2015-08-11 00:00:00</td>\n",
              "      <td>1.067379</td>\n",
              "      <td>6.453901e+07</td>\n",
              "      <td>1.518998e+06</td>\n",
              "    </tr>\n",
              "    <tr>\n",
              "      <th>4</th>\n",
              "      <td>2015-08-12 00:00:00</td>\n",
              "      <td>1.256613</td>\n",
              "      <td>7.601326e+07</td>\n",
              "      <td>2.073893e+06</td>\n",
              "    </tr>\n",
              "    <tr>\n",
              "      <th>...</th>\n",
              "      <td>...</td>\n",
              "      <td>...</td>\n",
              "      <td>...</td>\n",
              "      <td>...</td>\n",
              "    </tr>\n",
              "    <tr>\n",
              "      <th>2875</th>\n",
              "      <td>2023-06-22 00:00:00</td>\n",
              "      <td>1892.899572</td>\n",
              "      <td>2.275816e+11</td>\n",
              "      <td>1.229479e+10</td>\n",
              "    </tr>\n",
              "    <tr>\n",
              "      <th>2876</th>\n",
              "      <td>2023-06-23 00:00:00</td>\n",
              "      <td>1874.177947</td>\n",
              "      <td>2.253811e+11</td>\n",
              "      <td>9.842203e+09</td>\n",
              "    </tr>\n",
              "    <tr>\n",
              "      <th>2877</th>\n",
              "      <td>2023-06-24 00:00:00</td>\n",
              "      <td>1891.345008</td>\n",
              "      <td>2.274194e+11</td>\n",
              "      <td>9.303341e+09</td>\n",
              "    </tr>\n",
              "    <tr>\n",
              "      <th>2878</th>\n",
              "      <td>2023-06-25 00:00:00</td>\n",
              "      <td>1875.059962</td>\n",
              "      <td>2.254489e+11</td>\n",
              "      <td>4.889179e+09</td>\n",
              "    </tr>\n",
              "    <tr>\n",
              "      <th>2879</th>\n",
              "      <td>2023-06-25 16:29:40</td>\n",
              "      <td>1889.491318</td>\n",
              "      <td>2.270213e+11</td>\n",
              "      <td>7.313987e+09</td>\n",
              "    </tr>\n",
              "  </tbody>\n",
              "</table>\n",
              "<p>2880 rows × 4 columns</p>\n",
              "</div>\n",
              "      <button class=\"colab-df-convert\" onclick=\"convertToInteractive('df-2e835401-a0b5-410d-bd20-d2a5684adcf0')\"\n",
              "              title=\"Convert this dataframe to an interactive table.\"\n",
              "              style=\"display:none;\">\n",
              "        \n",
              "  <svg xmlns=\"http://www.w3.org/2000/svg\" height=\"24px\"viewBox=\"0 0 24 24\"\n",
              "       width=\"24px\">\n",
              "    <path d=\"M0 0h24v24H0V0z\" fill=\"none\"/>\n",
              "    <path d=\"M18.56 5.44l.94 2.06.94-2.06 2.06-.94-2.06-.94-.94-2.06-.94 2.06-2.06.94zm-11 1L8.5 8.5l.94-2.06 2.06-.94-2.06-.94L8.5 2.5l-.94 2.06-2.06.94zm10 10l.94 2.06.94-2.06 2.06-.94-2.06-.94-.94-2.06-.94 2.06-2.06.94z\"/><path d=\"M17.41 7.96l-1.37-1.37c-.4-.4-.92-.59-1.43-.59-.52 0-1.04.2-1.43.59L10.3 9.45l-7.72 7.72c-.78.78-.78 2.05 0 2.83L4 21.41c.39.39.9.59 1.41.59.51 0 1.02-.2 1.41-.59l7.78-7.78 2.81-2.81c.8-.78.8-2.07 0-2.86zM5.41 20L4 18.59l7.72-7.72 1.47 1.35L5.41 20z\"/>\n",
              "  </svg>\n",
              "      </button>\n",
              "      \n",
              "  <style>\n",
              "    .colab-df-container {\n",
              "      display:flex;\n",
              "      flex-wrap:wrap;\n",
              "      gap: 12px;\n",
              "    }\n",
              "\n",
              "    .colab-df-convert {\n",
              "      background-color: #E8F0FE;\n",
              "      border: none;\n",
              "      border-radius: 50%;\n",
              "      cursor: pointer;\n",
              "      display: none;\n",
              "      fill: #1967D2;\n",
              "      height: 32px;\n",
              "      padding: 0 0 0 0;\n",
              "      width: 32px;\n",
              "    }\n",
              "\n",
              "    .colab-df-convert:hover {\n",
              "      background-color: #E2EBFA;\n",
              "      box-shadow: 0px 1px 2px rgba(60, 64, 67, 0.3), 0px 1px 3px 1px rgba(60, 64, 67, 0.15);\n",
              "      fill: #174EA6;\n",
              "    }\n",
              "\n",
              "    [theme=dark] .colab-df-convert {\n",
              "      background-color: #3B4455;\n",
              "      fill: #D2E3FC;\n",
              "    }\n",
              "\n",
              "    [theme=dark] .colab-df-convert:hover {\n",
              "      background-color: #434B5C;\n",
              "      box-shadow: 0px 1px 3px 1px rgba(0, 0, 0, 0.15);\n",
              "      filter: drop-shadow(0px 1px 2px rgba(0, 0, 0, 0.3));\n",
              "      fill: #FFFFFF;\n",
              "    }\n",
              "  </style>\n",
              "\n",
              "      <script>\n",
              "        const buttonEl =\n",
              "          document.querySelector('#df-2e835401-a0b5-410d-bd20-d2a5684adcf0 button.colab-df-convert');\n",
              "        buttonEl.style.display =\n",
              "          google.colab.kernel.accessAllowed ? 'block' : 'none';\n",
              "\n",
              "        async function convertToInteractive(key) {\n",
              "          const element = document.querySelector('#df-2e835401-a0b5-410d-bd20-d2a5684adcf0');\n",
              "          const dataTable =\n",
              "            await google.colab.kernel.invokeFunction('convertToInteractive',\n",
              "                                                     [key], {});\n",
              "          if (!dataTable) return;\n",
              "\n",
              "          const docLinkHtml = 'Like what you see? Visit the ' +\n",
              "            '<a target=\"_blank\" href=https://colab.research.google.com/notebooks/data_table.ipynb>data table notebook</a>'\n",
              "            + ' to learn more about interactive tables.';\n",
              "          element.innerHTML = '';\n",
              "          dataTable['output_type'] = 'display_data';\n",
              "          await google.colab.output.renderOutput(dataTable, element);\n",
              "          const docLink = document.createElement('div');\n",
              "          docLink.innerHTML = docLinkHtml;\n",
              "          element.appendChild(docLink);\n",
              "        }\n",
              "      </script>\n",
              "    </div>\n",
              "  </div>\n",
              "  "
            ]
          },
          "metadata": {},
          "execution_count": 3
        }
      ]
    },
    {
      "cell_type": "markdown",
      "source": [
        "## Percentage Change"
      ],
      "metadata": {
        "id": "ZOG3isnQ48r4"
      }
    },
    {
      "cell_type": "code",
      "source": [
        "data['price_change'] = data['price'].pct_change()\n",
        "data['market_cap_change'] = data['market_cap'].pct_change()\n",
        "data['total_volume_change'] = data['total_volume'].pct_change()"
      ],
      "metadata": {
        "id": "9cF2Nw27BRHW"
      },
      "execution_count": 4,
      "outputs": []
    },
    {
      "cell_type": "markdown",
      "source": [
        "## Moving Average with period of 2 (current and previous day)"
      ],
      "metadata": {
        "id": "Dks4IG0F68uS"
      }
    },
    {
      "cell_type": "code",
      "source": [
        "# data['price'].rolling(window=2).mean()\n",
        "data['price_ma'] = data['price'].rolling(window=2).mean()\n",
        "data['market_cap_ma'] = data['market_cap'].rolling(window=2).mean()\n",
        "data['total_volume_ma'] = data['total_volume'].rolling(window=2).mean()"
      ],
      "metadata": {
        "id": "M18esoCd6Agh"
      },
      "execution_count": 5,
      "outputs": []
    },
    {
      "cell_type": "markdown",
      "source": [
        "## Price to market capital ratio"
      ],
      "metadata": {
        "id": "N2wC05-l70jE"
      }
    },
    {
      "cell_type": "code",
      "source": [
        "data['price_to_marketcap'] = data['price'] / data['market_cap']"
      ],
      "metadata": {
        "id": "9mlHX0Rx79dm"
      },
      "execution_count": 6,
      "outputs": []
    },
    {
      "cell_type": "markdown",
      "source": [
        "## Price to volume ratio"
      ],
      "metadata": {
        "id": "XJ4PVD2m8eUe"
      }
    },
    {
      "cell_type": "code",
      "source": [
        "data['price_to_volume'] = data['price'] / data['total_volume']"
      ],
      "metadata": {
        "id": "GGX6Q10O8wkt"
      },
      "execution_count": 7,
      "outputs": []
    },
    {
      "cell_type": "markdown",
      "source": [
        "## Market capital to volume ratio"
      ],
      "metadata": {
        "id": "pjGiHdTB9ESv"
      }
    },
    {
      "cell_type": "code",
      "source": [
        "data['marketcap_to_volume'] = data['market_cap'] / data['total_volume']"
      ],
      "metadata": {
        "id": "n-NRpIDZ9JSv"
      },
      "execution_count": 8,
      "outputs": []
    },
    {
      "cell_type": "markdown",
      "source": [
        "## Weekly/Monthly Return"
      ],
      "metadata": {
        "id": "hid-1rlSAzdH"
      }
    },
    {
      "cell_type": "code",
      "source": [
        "data['weekly_retun'] = data['price'].pct_change(periods=7)\n",
        "data['monthly_retun'] = data['price'].pct_change(periods=30)"
      ],
      "metadata": {
        "id": "JamkiO37Na56"
      },
      "execution_count": 9,
      "outputs": []
    },
    {
      "cell_type": "markdown",
      "source": [
        "## Price percentage change from all-time high"
      ],
      "metadata": {
        "id": "7-WLNe27Hv0X"
      }
    },
    {
      "cell_type": "code",
      "source": [
        "data['price_pct_change_from_high'] = (data['price'] - data['price'].max()) / data['price'].max()"
      ],
      "metadata": {
        "id": "XWpkFitEH0bY"
      },
      "execution_count": 10,
      "outputs": []
    },
    {
      "cell_type": "markdown",
      "source": [
        "## Price percentage change from all-time low"
      ],
      "metadata": {
        "id": "3S8oW_qyIBkm"
      }
    },
    {
      "cell_type": "code",
      "source": [
        "data['price_pct_change_from_low'] = (data['price'] - data['price'].min()) / data['price'].min()"
      ],
      "metadata": {
        "id": "xiGRgZ6cIHEH"
      },
      "execution_count": 11,
      "outputs": []
    },
    {
      "cell_type": "markdown",
      "source": [
        "## Price volatility"
      ],
      "metadata": {
        "id": "DsFx-bs-IkTu"
      }
    },
    {
      "cell_type": "code",
      "source": [
        "data['price_volatility'] = data['price'].rolling(window=2).std()"
      ],
      "metadata": {
        "id": "zZM_E74LIiWv"
      },
      "execution_count": 12,
      "outputs": []
    },
    {
      "cell_type": "code",
      "source": [
        "data"
      ],
      "metadata": {
        "colab": {
          "base_uri": "https://localhost:8080/",
          "height": 835
        },
        "id": "uTb1_lX0NvSH",
        "outputId": "799dbede-947d-4cc3-b6be-c9a74676323b"
      },
      "execution_count": 13,
      "outputs": [
        {
          "output_type": "execute_result",
          "data": {
            "text/plain": [
              "               timestamp        price    market_cap  total_volume  \\\n",
              "0    2015-08-07 00:00:00     2.831620  0.000000e+00  9.062200e+04   \n",
              "1    2015-08-08 00:00:00     1.330750  8.033948e+07  3.680700e+05   \n",
              "2    2015-08-10 00:00:00     0.687586  4.155631e+07  4.004641e+05   \n",
              "3    2015-08-11 00:00:00     1.067379  6.453901e+07  1.518998e+06   \n",
              "4    2015-08-12 00:00:00     1.256613  7.601326e+07  2.073893e+06   \n",
              "...                  ...          ...           ...           ...   \n",
              "2875 2023-06-22 00:00:00  1892.899572  2.275816e+11  1.229479e+10   \n",
              "2876 2023-06-23 00:00:00  1874.177947  2.253811e+11  9.842203e+09   \n",
              "2877 2023-06-24 00:00:00  1891.345008  2.274194e+11  9.303341e+09   \n",
              "2878 2023-06-25 00:00:00  1875.059962  2.254489e+11  4.889179e+09   \n",
              "2879 2023-06-25 16:29:40  1889.491318  2.270213e+11  7.313987e+09   \n",
              "\n",
              "      price_change  market_cap_change  total_volume_change     price_ma  \\\n",
              "0              NaN                NaN                  NaN          NaN   \n",
              "1        -0.530039                inf             3.061597     2.081185   \n",
              "2        -0.483310          -0.482741             0.088011     1.009168   \n",
              "3         0.552358           0.553050             2.793095     0.877482   \n",
              "4         0.177289           0.177788             0.365303     1.161996   \n",
              "...            ...                ...                  ...          ...   \n",
              "2875      0.057373           0.058219             0.556252  1841.545006   \n",
              "2876     -0.009890          -0.009669            -0.199482  1883.538759   \n",
              "2877      0.009160           0.009044            -0.054750  1882.761478   \n",
              "2878     -0.008610          -0.008665            -0.474471  1883.202485   \n",
              "2879      0.007696           0.006975             0.495954  1882.275640   \n",
              "\n",
              "      market_cap_ma  total_volume_ma  price_to_marketcap  price_to_volume  \\\n",
              "0               NaN              NaN                 inf     3.124650e-05   \n",
              "1      4.016974e+07     2.293460e+05        1.656409e-08     3.615481e-06   \n",
              "2      6.094789e+07     3.842670e+05        1.654588e-08     1.716972e-06   \n",
              "3      5.304766e+07     9.597311e+05        1.653851e-08     7.026861e-07   \n",
              "4      7.027613e+07     1.796446e+06        1.653150e-08     6.059199e-07   \n",
              "...             ...              ...                 ...              ...   \n",
              "2875   2.213213e+11     1.009753e+10        8.317453e-09     1.539594e-07   \n",
              "2876   2.264814e+11     1.106850e+10        8.315596e-09     1.904226e-07   \n",
              "2877   2.264003e+11     9.572772e+09        8.316550e-09     2.032974e-07   \n",
              "2878   2.264342e+11     7.096260e+09        8.317005e-09     3.835122e-07   \n",
              "2879   2.262351e+11     6.101583e+09        8.322968e-09     2.583394e-07   \n",
              "\n",
              "      marketcap_to_volume  weekly_retun  monthly_retun  \\\n",
              "0                0.000000           NaN            NaN   \n",
              "1              218.272272           NaN            NaN   \n",
              "2              103.770380           NaN            NaN   \n",
              "3               42.487875           NaN            NaN   \n",
              "4               36.652445           NaN            NaN   \n",
              "...                   ...           ...            ...   \n",
              "2875            18.510407      0.146742       0.040969   \n",
              "2876            22.899456      0.125648       0.010778   \n",
              "2877            24.444918      0.101940       0.050318   \n",
              "2878            46.111820      0.086127       0.038351   \n",
              "2879            31.039340      0.099006       0.033098   \n",
              "\n",
              "      price_pct_change_from_high  price_pct_change_from_low  price_volatility  \n",
              "0                      -0.999412                   5.539861               NaN  \n",
              "1                      -0.999724                   2.073478          1.061275  \n",
              "2                      -0.999857                   0.588036          0.454786  \n",
              "3                      -0.999778                   1.465200          0.268554  \n",
              "4                      -0.999739                   1.902252          0.133809  \n",
              "...                          ...                        ...               ...  \n",
              "2875                   -0.606875                4370.808621         72.626323  \n",
              "2876                   -0.610763                4327.569475         13.238188  \n",
              "2877                   -0.607198                4367.218227         12.138945  \n",
              "2878                   -0.610580                4329.606561         11.515267  \n",
              "2879                   -0.607583                4362.936976         10.204510  \n",
              "\n",
              "[2880 rows x 18 columns]"
            ],
            "text/html": [
              "\n",
              "  <div id=\"df-e69b105b-ef58-4f49-9829-b9e8c779d66b\">\n",
              "    <div class=\"colab-df-container\">\n",
              "      <div>\n",
              "<style scoped>\n",
              "    .dataframe tbody tr th:only-of-type {\n",
              "        vertical-align: middle;\n",
              "    }\n",
              "\n",
              "    .dataframe tbody tr th {\n",
              "        vertical-align: top;\n",
              "    }\n",
              "\n",
              "    .dataframe thead th {\n",
              "        text-align: right;\n",
              "    }\n",
              "</style>\n",
              "<table border=\"1\" class=\"dataframe\">\n",
              "  <thead>\n",
              "    <tr style=\"text-align: right;\">\n",
              "      <th></th>\n",
              "      <th>timestamp</th>\n",
              "      <th>price</th>\n",
              "      <th>market_cap</th>\n",
              "      <th>total_volume</th>\n",
              "      <th>price_change</th>\n",
              "      <th>market_cap_change</th>\n",
              "      <th>total_volume_change</th>\n",
              "      <th>price_ma</th>\n",
              "      <th>market_cap_ma</th>\n",
              "      <th>total_volume_ma</th>\n",
              "      <th>price_to_marketcap</th>\n",
              "      <th>price_to_volume</th>\n",
              "      <th>marketcap_to_volume</th>\n",
              "      <th>weekly_retun</th>\n",
              "      <th>monthly_retun</th>\n",
              "      <th>price_pct_change_from_high</th>\n",
              "      <th>price_pct_change_from_low</th>\n",
              "      <th>price_volatility</th>\n",
              "    </tr>\n",
              "  </thead>\n",
              "  <tbody>\n",
              "    <tr>\n",
              "      <th>0</th>\n",
              "      <td>2015-08-07 00:00:00</td>\n",
              "      <td>2.831620</td>\n",
              "      <td>0.000000e+00</td>\n",
              "      <td>9.062200e+04</td>\n",
              "      <td>NaN</td>\n",
              "      <td>NaN</td>\n",
              "      <td>NaN</td>\n",
              "      <td>NaN</td>\n",
              "      <td>NaN</td>\n",
              "      <td>NaN</td>\n",
              "      <td>inf</td>\n",
              "      <td>3.124650e-05</td>\n",
              "      <td>0.000000</td>\n",
              "      <td>NaN</td>\n",
              "      <td>NaN</td>\n",
              "      <td>-0.999412</td>\n",
              "      <td>5.539861</td>\n",
              "      <td>NaN</td>\n",
              "    </tr>\n",
              "    <tr>\n",
              "      <th>1</th>\n",
              "      <td>2015-08-08 00:00:00</td>\n",
              "      <td>1.330750</td>\n",
              "      <td>8.033948e+07</td>\n",
              "      <td>3.680700e+05</td>\n",
              "      <td>-0.530039</td>\n",
              "      <td>inf</td>\n",
              "      <td>3.061597</td>\n",
              "      <td>2.081185</td>\n",
              "      <td>4.016974e+07</td>\n",
              "      <td>2.293460e+05</td>\n",
              "      <td>1.656409e-08</td>\n",
              "      <td>3.615481e-06</td>\n",
              "      <td>218.272272</td>\n",
              "      <td>NaN</td>\n",
              "      <td>NaN</td>\n",
              "      <td>-0.999724</td>\n",
              "      <td>2.073478</td>\n",
              "      <td>1.061275</td>\n",
              "    </tr>\n",
              "    <tr>\n",
              "      <th>2</th>\n",
              "      <td>2015-08-10 00:00:00</td>\n",
              "      <td>0.687586</td>\n",
              "      <td>4.155631e+07</td>\n",
              "      <td>4.004641e+05</td>\n",
              "      <td>-0.483310</td>\n",
              "      <td>-0.482741</td>\n",
              "      <td>0.088011</td>\n",
              "      <td>1.009168</td>\n",
              "      <td>6.094789e+07</td>\n",
              "      <td>3.842670e+05</td>\n",
              "      <td>1.654588e-08</td>\n",
              "      <td>1.716972e-06</td>\n",
              "      <td>103.770380</td>\n",
              "      <td>NaN</td>\n",
              "      <td>NaN</td>\n",
              "      <td>-0.999857</td>\n",
              "      <td>0.588036</td>\n",
              "      <td>0.454786</td>\n",
              "    </tr>\n",
              "    <tr>\n",
              "      <th>3</th>\n",
              "      <td>2015-08-11 00:00:00</td>\n",
              "      <td>1.067379</td>\n",
              "      <td>6.453901e+07</td>\n",
              "      <td>1.518998e+06</td>\n",
              "      <td>0.552358</td>\n",
              "      <td>0.553050</td>\n",
              "      <td>2.793095</td>\n",
              "      <td>0.877482</td>\n",
              "      <td>5.304766e+07</td>\n",
              "      <td>9.597311e+05</td>\n",
              "      <td>1.653851e-08</td>\n",
              "      <td>7.026861e-07</td>\n",
              "      <td>42.487875</td>\n",
              "      <td>NaN</td>\n",
              "      <td>NaN</td>\n",
              "      <td>-0.999778</td>\n",
              "      <td>1.465200</td>\n",
              "      <td>0.268554</td>\n",
              "    </tr>\n",
              "    <tr>\n",
              "      <th>4</th>\n",
              "      <td>2015-08-12 00:00:00</td>\n",
              "      <td>1.256613</td>\n",
              "      <td>7.601326e+07</td>\n",
              "      <td>2.073893e+06</td>\n",
              "      <td>0.177289</td>\n",
              "      <td>0.177788</td>\n",
              "      <td>0.365303</td>\n",
              "      <td>1.161996</td>\n",
              "      <td>7.027613e+07</td>\n",
              "      <td>1.796446e+06</td>\n",
              "      <td>1.653150e-08</td>\n",
              "      <td>6.059199e-07</td>\n",
              "      <td>36.652445</td>\n",
              "      <td>NaN</td>\n",
              "      <td>NaN</td>\n",
              "      <td>-0.999739</td>\n",
              "      <td>1.902252</td>\n",
              "      <td>0.133809</td>\n",
              "    </tr>\n",
              "    <tr>\n",
              "      <th>...</th>\n",
              "      <td>...</td>\n",
              "      <td>...</td>\n",
              "      <td>...</td>\n",
              "      <td>...</td>\n",
              "      <td>...</td>\n",
              "      <td>...</td>\n",
              "      <td>...</td>\n",
              "      <td>...</td>\n",
              "      <td>...</td>\n",
              "      <td>...</td>\n",
              "      <td>...</td>\n",
              "      <td>...</td>\n",
              "      <td>...</td>\n",
              "      <td>...</td>\n",
              "      <td>...</td>\n",
              "      <td>...</td>\n",
              "      <td>...</td>\n",
              "      <td>...</td>\n",
              "    </tr>\n",
              "    <tr>\n",
              "      <th>2875</th>\n",
              "      <td>2023-06-22 00:00:00</td>\n",
              "      <td>1892.899572</td>\n",
              "      <td>2.275816e+11</td>\n",
              "      <td>1.229479e+10</td>\n",
              "      <td>0.057373</td>\n",
              "      <td>0.058219</td>\n",
              "      <td>0.556252</td>\n",
              "      <td>1841.545006</td>\n",
              "      <td>2.213213e+11</td>\n",
              "      <td>1.009753e+10</td>\n",
              "      <td>8.317453e-09</td>\n",
              "      <td>1.539594e-07</td>\n",
              "      <td>18.510407</td>\n",
              "      <td>0.146742</td>\n",
              "      <td>0.040969</td>\n",
              "      <td>-0.606875</td>\n",
              "      <td>4370.808621</td>\n",
              "      <td>72.626323</td>\n",
              "    </tr>\n",
              "    <tr>\n",
              "      <th>2876</th>\n",
              "      <td>2023-06-23 00:00:00</td>\n",
              "      <td>1874.177947</td>\n",
              "      <td>2.253811e+11</td>\n",
              "      <td>9.842203e+09</td>\n",
              "      <td>-0.009890</td>\n",
              "      <td>-0.009669</td>\n",
              "      <td>-0.199482</td>\n",
              "      <td>1883.538759</td>\n",
              "      <td>2.264814e+11</td>\n",
              "      <td>1.106850e+10</td>\n",
              "      <td>8.315596e-09</td>\n",
              "      <td>1.904226e-07</td>\n",
              "      <td>22.899456</td>\n",
              "      <td>0.125648</td>\n",
              "      <td>0.010778</td>\n",
              "      <td>-0.610763</td>\n",
              "      <td>4327.569475</td>\n",
              "      <td>13.238188</td>\n",
              "    </tr>\n",
              "    <tr>\n",
              "      <th>2877</th>\n",
              "      <td>2023-06-24 00:00:00</td>\n",
              "      <td>1891.345008</td>\n",
              "      <td>2.274194e+11</td>\n",
              "      <td>9.303341e+09</td>\n",
              "      <td>0.009160</td>\n",
              "      <td>0.009044</td>\n",
              "      <td>-0.054750</td>\n",
              "      <td>1882.761478</td>\n",
              "      <td>2.264003e+11</td>\n",
              "      <td>9.572772e+09</td>\n",
              "      <td>8.316550e-09</td>\n",
              "      <td>2.032974e-07</td>\n",
              "      <td>24.444918</td>\n",
              "      <td>0.101940</td>\n",
              "      <td>0.050318</td>\n",
              "      <td>-0.607198</td>\n",
              "      <td>4367.218227</td>\n",
              "      <td>12.138945</td>\n",
              "    </tr>\n",
              "    <tr>\n",
              "      <th>2878</th>\n",
              "      <td>2023-06-25 00:00:00</td>\n",
              "      <td>1875.059962</td>\n",
              "      <td>2.254489e+11</td>\n",
              "      <td>4.889179e+09</td>\n",
              "      <td>-0.008610</td>\n",
              "      <td>-0.008665</td>\n",
              "      <td>-0.474471</td>\n",
              "      <td>1883.202485</td>\n",
              "      <td>2.264342e+11</td>\n",
              "      <td>7.096260e+09</td>\n",
              "      <td>8.317005e-09</td>\n",
              "      <td>3.835122e-07</td>\n",
              "      <td>46.111820</td>\n",
              "      <td>0.086127</td>\n",
              "      <td>0.038351</td>\n",
              "      <td>-0.610580</td>\n",
              "      <td>4329.606561</td>\n",
              "      <td>11.515267</td>\n",
              "    </tr>\n",
              "    <tr>\n",
              "      <th>2879</th>\n",
              "      <td>2023-06-25 16:29:40</td>\n",
              "      <td>1889.491318</td>\n",
              "      <td>2.270213e+11</td>\n",
              "      <td>7.313987e+09</td>\n",
              "      <td>0.007696</td>\n",
              "      <td>0.006975</td>\n",
              "      <td>0.495954</td>\n",
              "      <td>1882.275640</td>\n",
              "      <td>2.262351e+11</td>\n",
              "      <td>6.101583e+09</td>\n",
              "      <td>8.322968e-09</td>\n",
              "      <td>2.583394e-07</td>\n",
              "      <td>31.039340</td>\n",
              "      <td>0.099006</td>\n",
              "      <td>0.033098</td>\n",
              "      <td>-0.607583</td>\n",
              "      <td>4362.936976</td>\n",
              "      <td>10.204510</td>\n",
              "    </tr>\n",
              "  </tbody>\n",
              "</table>\n",
              "<p>2880 rows × 18 columns</p>\n",
              "</div>\n",
              "      <button class=\"colab-df-convert\" onclick=\"convertToInteractive('df-e69b105b-ef58-4f49-9829-b9e8c779d66b')\"\n",
              "              title=\"Convert this dataframe to an interactive table.\"\n",
              "              style=\"display:none;\">\n",
              "        \n",
              "  <svg xmlns=\"http://www.w3.org/2000/svg\" height=\"24px\"viewBox=\"0 0 24 24\"\n",
              "       width=\"24px\">\n",
              "    <path d=\"M0 0h24v24H0V0z\" fill=\"none\"/>\n",
              "    <path d=\"M18.56 5.44l.94 2.06.94-2.06 2.06-.94-2.06-.94-.94-2.06-.94 2.06-2.06.94zm-11 1L8.5 8.5l.94-2.06 2.06-.94-2.06-.94L8.5 2.5l-.94 2.06-2.06.94zm10 10l.94 2.06.94-2.06 2.06-.94-2.06-.94-.94-2.06-.94 2.06-2.06.94z\"/><path d=\"M17.41 7.96l-1.37-1.37c-.4-.4-.92-.59-1.43-.59-.52 0-1.04.2-1.43.59L10.3 9.45l-7.72 7.72c-.78.78-.78 2.05 0 2.83L4 21.41c.39.39.9.59 1.41.59.51 0 1.02-.2 1.41-.59l7.78-7.78 2.81-2.81c.8-.78.8-2.07 0-2.86zM5.41 20L4 18.59l7.72-7.72 1.47 1.35L5.41 20z\"/>\n",
              "  </svg>\n",
              "      </button>\n",
              "      \n",
              "  <style>\n",
              "    .colab-df-container {\n",
              "      display:flex;\n",
              "      flex-wrap:wrap;\n",
              "      gap: 12px;\n",
              "    }\n",
              "\n",
              "    .colab-df-convert {\n",
              "      background-color: #E8F0FE;\n",
              "      border: none;\n",
              "      border-radius: 50%;\n",
              "      cursor: pointer;\n",
              "      display: none;\n",
              "      fill: #1967D2;\n",
              "      height: 32px;\n",
              "      padding: 0 0 0 0;\n",
              "      width: 32px;\n",
              "    }\n",
              "\n",
              "    .colab-df-convert:hover {\n",
              "      background-color: #E2EBFA;\n",
              "      box-shadow: 0px 1px 2px rgba(60, 64, 67, 0.3), 0px 1px 3px 1px rgba(60, 64, 67, 0.15);\n",
              "      fill: #174EA6;\n",
              "    }\n",
              "\n",
              "    [theme=dark] .colab-df-convert {\n",
              "      background-color: #3B4455;\n",
              "      fill: #D2E3FC;\n",
              "    }\n",
              "\n",
              "    [theme=dark] .colab-df-convert:hover {\n",
              "      background-color: #434B5C;\n",
              "      box-shadow: 0px 1px 3px 1px rgba(0, 0, 0, 0.15);\n",
              "      filter: drop-shadow(0px 1px 2px rgba(0, 0, 0, 0.3));\n",
              "      fill: #FFFFFF;\n",
              "    }\n",
              "  </style>\n",
              "\n",
              "      <script>\n",
              "        const buttonEl =\n",
              "          document.querySelector('#df-e69b105b-ef58-4f49-9829-b9e8c779d66b button.colab-df-convert');\n",
              "        buttonEl.style.display =\n",
              "          google.colab.kernel.accessAllowed ? 'block' : 'none';\n",
              "\n",
              "        async function convertToInteractive(key) {\n",
              "          const element = document.querySelector('#df-e69b105b-ef58-4f49-9829-b9e8c779d66b');\n",
              "          const dataTable =\n",
              "            await google.colab.kernel.invokeFunction('convertToInteractive',\n",
              "                                                     [key], {});\n",
              "          if (!dataTable) return;\n",
              "\n",
              "          const docLinkHtml = 'Like what you see? Visit the ' +\n",
              "            '<a target=\"_blank\" href=https://colab.research.google.com/notebooks/data_table.ipynb>data table notebook</a>'\n",
              "            + ' to learn more about interactive tables.';\n",
              "          element.innerHTML = '';\n",
              "          dataTable['output_type'] = 'display_data';\n",
              "          await google.colab.output.renderOutput(dataTable, element);\n",
              "          const docLink = document.createElement('div');\n",
              "          docLink.innerHTML = docLinkHtml;\n",
              "          element.appendChild(docLink);\n",
              "        }\n",
              "      </script>\n",
              "    </div>\n",
              "  </div>\n",
              "  "
            ]
          },
          "metadata": {},
          "execution_count": 13
        }
      ]
    }
  ]
}